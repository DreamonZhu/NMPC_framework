{
 "cells": [
  {
   "cell_type": "code",
   "execution_count": 1,
   "metadata": {},
   "outputs": [],
   "source": [
    "import casadi as ca\n",
    "import numpy as np\n",
    "from mpc_model import Model\n",
    "from mpc_simulation import  Simulator\n",
    "from mpc_solver import MPC\n",
    "from mpc_plot import Plot\n",
    "import matplotlib.pyplot as plt"
   ]
  },
  {
   "cell_type": "markdown",
   "metadata": {},
   "source": [
    "## Furuta Pendulum\n",
    "\n",
    "$$\n",
    "\\begin{array}{r}\n",
    "\\left(\\alpha+\\beta \\sin ^{2} \\theta\\right) \\ddot{\\phi}+\\gamma \\cos \\theta \\ddot{\\theta}+2 \\beta \\cos \\theta \\sin \\theta \\dot{\\phi} \\dot{\\theta}-\\gamma \\sin \\theta \\dot{\\theta}^{2}=\\tau_{\\phi} \\\\\n",
    "\\gamma \\cos \\theta \\ddot{\\phi}+\\beta \\ddot{\\theta}-\\beta \\cos \\theta \\sin \\theta \\dot{\\phi}^{2}-\\delta \\sin \\theta=\\tau_{\\theta}\n",
    "\\end{array}\n",
    "$$"
   ]
  },
  {
   "cell_type": "markdown",
   "metadata": {},
   "source": [
    "### State space model\n",
    "$$x_1 = \\phi, x_2 = \\dot{\\phi} , x_3 = \\theta, x_4 = \\dot{\\theta}, u_1 = \\tau_{\\phi}, u_2 = \\tau_{\\theta}$$\n",
    "\n",
    "$$\n",
    "\\begin{aligned}\n",
    "\\frac{dx_1}{dt} &= x_2\\\\\n",
    "\\frac{dx_2}{dt}  &=\\frac{1}{\\alpha \\beta-\\gamma^{2}+\\left(\\beta^{2}+\\gamma^{2}\\right) \\sin ^{2} x_3}\\left\\{\\beta \\gamma\\left(\\sin ^{2} x_3-1\\right) \\sin x_3 x_2^{2}-2 \\beta^{2} \\cos x_3 \\sin x_3 x_2 x_4+\\beta \\gamma \\sin x_3 x_4^{2}-\\gamma \\delta \\cos x_3 \\sin x_3+\\beta u_1-\\gamma \\cos x_3 u_2\\right\\} \\\\\n",
    "\\frac{dx_3}{d t} &=x_4 \\\\\n",
    "\\frac{dx_4}{d t} &=\\frac{1}{\\alpha \\beta-\\gamma^{2}+\\left(\\beta^{2}+\\gamma^{2}\\right) \\sin ^{2} x_3}\\left\\{\\beta\\left(\\alpha+\\beta \\sin ^{2} x_3\\right) \\cos x_3 \\sin x_3 x_2^{2}+2 \\beta \\gamma\\left(1-\\sin ^{2} x_3\\right) \\sin x_3 x_2 x_4-\\gamma^{2} \\cos x_3 \\sin x_3 x_4^{2}+\\delta\\left(\\alpha+\\beta \\sin ^{2} x_3\\right) \\sin x_3-\\gamma \\cos x_3 u_1+\\left(\\alpha+\\beta \\sin ^{2} x_3\\right) u_2\\right\\}\n",
    "\\end{aligned}\n",
    "$$\n"
   ]
  },
  {
   "cell_type": "code",
   "execution_count": 2,
   "metadata": {},
   "outputs": [],
   "source": [
    "def furuta_ode(t, x, u, p):\n",
    "    \"\"\"\n",
    "    Furuta Pendulum\n",
    "    \"\"\"\n",
    "    # Parameter configuration\n",
    "    alpha = p[0]\n",
    "    beta =  p[1]\n",
    "    delta = p[2]\n",
    "    gamma = p[3]\n",
    "\n",
    "    dx1_dt = x[1]\n",
    "    dx2_dt = 1 / (alpha * beta - gamma ** 2 + (beta ** 2 + gamma ** 2) * ca.sin(x[2]) ** 2) * (\n",
    "                beta * gamma * (ca.sin(x[2] ** 2 - 1)) * ca.sin(x[2]) * x[1] ** 2 - 2 * beta ** 2 * ca.cos(\n",
    "            x[2]) * ca.sin(x[2]) * x[1] * x[3] + beta * gamma * ca.sin(x[2]) * x[3] ** 2 - gamma * delta * ca.cos(\n",
    "            x[2]) * ca.sin(x[2]) + beta * u[0] - gamma * ca.cos(x[2]) * u[1])\n",
    "    dx3_dt = x[3]\n",
    "    dx4_dt = 1 / (alpha * beta - gamma ** 2 + (beta ** 2 + gamma ** 2) * ca.sin(x[2]) ** 2) * (\n",
    "                beta * (alpha + beta * ca.sin(x[2]) ** 2) * ca.cos(x[2]) * ca.sin(x[2]) * x[\n",
    "            1] ** 2 + 2 * beta * gamma * (1 - ca.sin(x[2]) ** 2) * ca.sin(x[2]) * x[1] * x[3] - gamma ** 2 * ca.cos(\n",
    "            x[2]) * ca.sin(x[2]) * x[3] ** 2 + delta * (alpha + beta * ca.sin(x[2]) ** 2) * ca.sin(\n",
    "            x[2]) - gamma * ca.cos(x[2]) * u[0] + (alpha + beta * ca.sin(x[2]) ** 2) * u[1])\n",
    "\n",
    "    rhs = [dx1_dt,\n",
    "           dx2_dt,\n",
    "           dx3_dt,\n",
    "           dx4_dt\n",
    "           ]\n",
    "    return ca.vertcat(*rhs)"
   ]
  },
  {
   "cell_type": "code",
   "execution_count": 3,
   "metadata": {},
   "outputs": [],
   "source": [
    "def set_constraint(N_pred):\n",
    "    # set constraint\n",
    "    lbx = [0, 0, -ca.pi, 0]\n",
    "    ubx = [0, 0, -ca.pi, 0]\n",
    "    lbx += [-ca.pi, -ca.inf, -ca.pi, -ca.inf, -ca.inf, -ca.inf] * N_pred\n",
    "    ubx += [ca.pi, ca.inf, 2 * ca.pi, ca.inf, ca.inf, ca.inf] * N_pred\n",
    "\n",
    "    x0 = [0, 0, -ca.pi, 0]\n",
    "    x0 += [0, 0, 0, 0, 0, 0] * N_pred\n",
    "\n",
    "    lbg = [0, 0, 0, 0] * N_pred\n",
    "    ubg = [0, 0, 0, 0] * N_pred\n",
    "\n",
    "    p = [0, 0, 0, 0, 0, 0, 0] # t_var, xr_var, ur_var\n",
    "\n",
    "    return lbx, ubx, lbg, ubg, p, x0"
   ]
  },
  {
   "cell_type": "code",
   "execution_count": 4,
   "metadata": {},
   "outputs": [
    {
     "name": "stdout",
     "output_type": "stream",
     "text": [
      "(304, 1)\n",
      "\n",
      "******************************************************************************\n",
      "This program contains Ipopt, a library for large-scale nonlinear optimization.\n",
      " Ipopt is released as open source code under the Eclipse Public License (EPL).\n",
      "         For more information visit http://projects.coin-or.org/Ipopt\n",
      "******************************************************************************\n",
      "\n"
     ]
    }
   ],
   "source": [
    "Nt = 1\n",
    "Nx = 4\n",
    "Nu = 2\n",
    "Np = 0\n",
    "Nz = 0\n",
    "\n",
    "delta_t = 0.01\n",
    "N_pred = 50\n",
    "N_sim = 100\n",
    "\n",
    "t_SX = ca.SX.sym(\"t_SX\", Nt)\n",
    "x_SX = ca.SX.sym(\"x_SX\", Nx)\n",
    "u_SX = ca.SX.sym(\"u_SX\", Nu)\n",
    "p_SX = ca.SX.sym(\"p_SX\", Np)\n",
    "z_SX = ca.SX.sym(\"z_SX\", Nz)\n",
    "\n",
    "alpha = 0.0033472\n",
    "beta =  0.0038852\n",
    "delta = 0.097625\n",
    "gamma = 0.0024879\n",
    "\n",
    "para = [alpha,beta,delta,gamma]\n",
    "\n",
    "furuta_ode(t_SX, x_SX, u_SX, para)\n",
    "lbx, ubx, lbg, ubg, p, x0 = set_constraint(N_pred)\n",
    "\n",
    "\n",
    "xr_SX = ca.SX.sym(\"xr_SX\", Nx)\n",
    "ur_SX = ca.SX.sym(\"ur_SX\", Nu)\n",
    "Q = np.diag([10, 1, 100, 1])\n",
    "R = np.diag([1, 1])\n",
    "Q_f = np.diag([0, 0, 0, 0])\n",
    "stage_cost = (x_SX - xr_SX).T @ Q @ (x_SX - xr_SX) + (u_SX - ur_SX).T @ R @ (u_SX - ur_SX)    #  Lagrange term\n",
    "terminal_cost = (x_SX - xr_SX).T @ Q_f @ (x_SX - xr_SX)    #  Mayer term\n",
    "stage_cost_func = ca.Function(\"stage_cost_func\",[x_SX, xr_SX, u_SX, ur_SX], [stage_cost])\n",
    "terminal_cost_func = ca.Function(\"terminal_cost_func\",[x_SX, xr_SX], [terminal_cost])\n",
    "\n",
    "model = Model(t_SX, x_SX, u_SX, z_SX, p_SX, delta_t, para=para, ode=furuta_ode, alg=None, opt=None,\n",
    "              stage_cost_func=stage_cost_func, terminal_cost_func=terminal_cost_func)\n",
    "\n",
    "solver_opt = {}\n",
    "solver_opt['print_time'] = False\n",
    "solver_opt['ipopt'] = {\n",
    "    'max_iter': 500,\n",
    "    'print_level': 1,\n",
    "    'acceptable_tol': 1e-6,\n",
    "    'acceptable_obj_change_tol': 1e-6\n",
    "}\n",
    "\n",
    "mpc_solver = MPC(model, N_pred, solver_opt = solver_opt)\n",
    "mpc_simulator = Simulator(model, mpc_solver, N_sim, lbx, ubx, lbg, ubg, p, x0)"
   ]
  },
  {
   "cell_type": "code",
   "execution_count": 5,
   "metadata": {},
   "outputs": [
    {
     "data": {
      "image/png": "[encoded data removed]",
      "text/plain": [
       "<Figure size 432x288 with 6 Axes>"
      ]
     },
     "metadata": {
      "needs_background": "light"
     },
     "output_type": "display_data"
    }
   ],
   "source": [
    "mpc_plot = Plot(mpc_simulator)\n",
    "mpc_plot.plot_multi()"
   ]
  },
  {
   "cell_type": "code",
   "execution_count": 6,
   "metadata": {},
   "outputs": [
    {
     "data": {
      "image/png": "[encoded data removed]",
      "text/plain": [
       "<Figure size 432x288 with 1 Axes>"
      ]
     },
     "metadata": {
      "needs_background": "light"
     },
     "output_type": "display_data"
    }
   ],
   "source": [
    "mpc_plot.plot_single()"
   ]
  },
  {
   "cell_type": "markdown",
   "metadata": {},
   "source": [
    "## Fermination"
   ]
  },
  {
   "cell_type": "markdown",
   "metadata": {},
   "source": [
    "$$\n",
    "\\begin{aligned}\n",
    "&\\mu_{x}=\\frac{\\mu_{x 0} s}{0.5 s_{i}+e}\\\\\n",
    "&\\mu_{D}=\\frac{0.5 s_{i} \\mu_{D 0}}{0.5 s_{i}+e}\\\\\n",
    "&\\mu_{s}=\\frac{\\mu_{s 0} s}{k_{s}+s}\\\\\n",
    "&\\mu_{a}=\\frac{\\mu_{a 0} s}{k_{s}+s}\\\\\n",
    "&f=1-\\frac{e}{0.5 s_{i}}\\\\\n",
    "&\\frac{d x_{\\text {lag} }}{d t}=-\\mu_{\\text {lag}} x_{\\text {lag}}\\\\\n",
    "&\\frac{d x_{\\text {active}}}{d t}=\\mu_{x} x_{\\text {active}}-k_{m} x_{\\text {active}}+\\mu_{\\text {lag}} x_{\\text {lag}}\\\\\n",
    "&\\frac{d x_{\\text {bottom}}}{d t}=k_{m} x_{\\text {active}}-\\mu_{D} x_{\\text {bottom}}\\\\\n",
    "&\\frac{d s}{d t}=-\\mu_{s} x_{\\text {active }}\\\\\n",
    "&\\frac{d e}{d t}=\\mu_{a} f x_{\\text {active}}\\\\\n",
    "&\\frac{d(a c e t)}{d t}=\\mu_{e a s} \\frac{d s}{d t}=- \\mu_{e a s} \\mu_{s} x_{a c t i v e}\\\\\n",
    "&\\frac{d(d i a c)}{d t}=k_{d c} s x_{\\text {active}}-k_{d m}(\\operatorname{diac}) e\n",
    "\\end{aligned}\n",
    "$$"
   ]
  },
  {
   "cell_type": "markdown",
   "metadata": {},
   "source": [
    "### Some exponential functions:\n",
    "$$\n",
    "\\begin{array}{lll}\n",
    "\\mu_{x 0}=e^{108.31-\\frac{31934.09}{T+273.15}} & k_{m}=e^{130.16-\\frac{38313}{T+273.15}} \\\\\n",
    "\\mu_{\\text {eas}}=e^{89.92-\\frac{26589}{T+273.15}} & \\mu_{D 0}=e^{33.82-\\frac{10033.28}{T+273.15}} \\\\\n",
    "\\mu_{s 0}=e^{-41.92+\\frac{11654.64}{T+273.15}} & \\mu_{a 0}=e^{3.27-\\frac{1267.24}{T+273.15}} \\\\\n",
    "\\mu_{\\text {lag}}=e^{30.72-\\frac{9501.54}{T+273.15}} & k_{s}=e^{-119.63+\\frac{34203.95}{T+273.15}} \\\\\n",
    "k_{d c}=0.000127672 & k_{d m}=0.00113864\n",
    "\\end{array}\n",
    "$$"
   ]
  },
  {
   "cell_type": "code",
   "execution_count": 7,
   "metadata": {},
   "outputs": [],
   "source": [
    "def fermination_ode(t, x, u, p):\n",
    "    \"\"\"\n",
    "    Fermination model\n",
    "    \"\"\"\n",
    "    k_dc = p[0]\n",
    "    k_dm = p[1]\n",
    "    s_i = p[2]\n",
    "\n",
    "    T = u[0]\n",
    "\n",
    "    x_lag = x[0]\n",
    "    x_active = x[1]\n",
    "    x_bottom = x[2]\n",
    "    s = x[3]\n",
    "    e = x[4]\n",
    "    acet = x[5]\n",
    "    diac = x[6]\n",
    "\n",
    "    mu_x0 = ca.exp(108.31 - 31934.09 / (T+273.15))\n",
    "    mu_eas = ca.exp(89.92 - 26589 / (T+273.15))\n",
    "    mu_s0 = ca.exp( -41.92 + 11654.64/ (T+273.15))\n",
    "    mu_lag = ca.exp(30.72 - 9501.54 / (T+273.15))\n",
    "    k_dc = 0.000127672\n",
    "    k_m = ca.exp( 130.16 - 38313 / (T+273.15))\n",
    "    mu_D0 = ca.exp( 33.82 - 10033.28/ (T+273.15))\n",
    "    mu_a0 = ca.exp(3.72 - 1267.24 / (T+273.15))\n",
    "    k_s = ca.exp(-119.63 + 34203.95 / (T + 273.15))\n",
    "    k_dm = 0.00113864\n",
    "\n",
    "    mu_x = mu_x0 * s / (0.5 * s_i + e)\n",
    "    mu_D = 0.5 * s_i * mu_D0 / (0.5 * s_i + e)\n",
    "    mu_s = mu_s0 * s / (k_s + s)\n",
    "    mu_a = mu_a0 * s / (k_s + s)\n",
    "    f = 1 - e / (0.5 * s_i)\n",
    "\n",
    "    dx_lag = - mu_lag * x_lag\n",
    "    dx_active = mu_x * x_active - k_m * x_active + mu_lag * x_lag\n",
    "    dx_bottom = k_m * x_active - mu_D * x_bottom\n",
    "    ds = - mu_s * x_active\n",
    "    de = mu_a * f * x_active\n",
    "    dacet = - mu_eas * mu_s * x_active\n",
    "    ddiac = k_dc * s * x_active - k_dm * diac * e\n",
    "    rhs = [dx_lag,\n",
    "           dx_active,\n",
    "           dx_bottom,\n",
    "           ds,\n",
    "           de,\n",
    "           dacet,\n",
    "           ddiac\n",
    "           ]\n",
    "    return ca.vertcat(*rhs)"
   ]
  },
  {
   "cell_type": "code",
   "execution_count": 28,
   "metadata": {},
   "outputs": [],
   "source": [
    "def set_constraint(Nx, Nu, N_pred):\n",
    "    # set constraint\n",
    "    lbx = [1.5, 0, 2, 122.41, 0, 10, 10]\n",
    "    ubx = [1.5, 0, 2, 122.41, 0, 10, 10]\n",
    "    lbx += [-ca.inf] * (Nx + Nu) * N_pred\n",
    "    ubx += [ca.inf] * (Nx + Nu) * N_pred\n",
    "\n",
    "    x0 = [1.5, 0, 2, 22.41, 0, 0, 0] \n",
    "    x0 += [0] * (Nx + Nu) * N_pred\n",
    "\n",
    "    lbg = [0] * Nx * N_pred\n",
    "    ubg = [0] * Nx * N_pred\n",
    "\n",
    "    p = [0, 0, 1, 0, 0, 60, 1.05, 0, 10] # t_var, xr_var, ur_var\n",
    "\n",
    "    return lbx, ubx, lbg, ubg, p, x0"
   ]
  },
  {
   "cell_type": "code",
   "execution_count": 29,
   "metadata": {},
   "outputs": [
    {
     "name": "stdout",
     "output_type": "stream",
     "text": [
      "(407, 1)\n"
     ]
    }
   ],
   "source": [
    "Nt = 1\n",
    "Nx = 7\n",
    "Nu = 1\n",
    "Np = 0\n",
    "Nz = 0\n",
    "\n",
    "delta_t = 1\n",
    "N_pred = 50\n",
    "N_sim = 100\n",
    "\n",
    "t_SX = ca.SX.sym(\"t_SX\", Nt)\n",
    "x_SX = ca.SX.sym(\"x_SX\", Nx)\n",
    "u_SX = ca.SX.sym(\"u_SX\", Nu)\n",
    "p_SX = ca.SX.sym(\"p_SX\", Np)\n",
    "z_SX = ca.SX.sym(\"z_SX\", Nz)\n",
    "\n",
    "k_dc = 0.000127672\n",
    "k_dm =  0.00113864\n",
    "s_i = 22.41\n",
    "\n",
    "para = [k_dc, k_dm, s_i]\n",
    "\n",
    "\n",
    "fermination_ode(t_SX, x_SX, u_SX, para)\n",
    "lbx, ubx, lbg, ubg, p, x0 = set_constraint(Nx, Nu, N_pred)\n",
    "\n",
    "\n",
    "xr_SX = ca.SX.sym(\"xr_SX\", Nx)\n",
    "ur_SX = ca.SX.sym(\"ur_SX\", Nu)\n",
    "\n",
    "stage_cost = 0.001**(-17) * ca.exp(2.31 * u_SX)   - 100 * (u_SX - ur_SX) #  Lagrange term\n",
    "terminal_cost = 10 * x_SX[4] - 1.16 * ca.exp(48 * x_SX[5] - 66.77) -5.73 * ca.exp(11 * x_SX[6] - 11.51)    #  Mayer term\n",
    "stage_cost_func = ca.Function(\"stage_cost_func\",[x_SX, xr_SX, u_SX, ur_SX], [stage_cost])\n",
    "terminal_cost_func = ca.Function(\"terminal_cost_func\",[x_SX, xr_SX], [terminal_cost])\n",
    "\n",
    "model = Model(t_SX, x_SX, u_SX, z_SX, p_SX, delta_t, para=para, ode=fermination_ode, alg=None, opt=None,\n",
    "              stage_cost_func=stage_cost_func, terminal_cost_func=terminal_cost_func)\n",
    "\n",
    "solver_opt = {}\n",
    "solver_opt['print_time'] = False\n",
    "solver_opt['ipopt'] = {\n",
    "    'max_iter': 500,\n",
    "    'print_level': 1,\n",
    "    'acceptable_tol': 1e-6,\n",
    "    'acceptable_obj_change_tol': 1e-6\n",
    "}\n",
    "\n",
    "mpc_solver = MPC(model, N_pred, solver_opt = solver_opt)\n",
    "mpc_simulator = Simulator(model, mpc_solver, N_sim, lbx, ubx, lbg, ubg, p, x0)"
   ]
  },
  {
   "cell_type": "code",
   "execution_count": 30,
   "metadata": {},
   "outputs": [
    {
     "data": {
      "image/png": "[encoded data removed]",
      "text/plain": [
       "<Figure size 432x288 with 8 Axes>"
      ]
     },
     "metadata": {
      "needs_background": "light"
     },
     "output_type": "display_data"
    }
   ],
   "source": [
    "mpc_plot = Plot(mpc_simulator)\n",
    "mpc_plot.plot_multi()"
   ]
  },
  {
   "cell_type": "markdown",
   "metadata": {},
   "source": [
    "x1 = x_lag,\n",
    "x2 = x_active,\n",
    "x3 = x_bottom,\n",
    "x4 = s,\n",
    "x5 = e,\n",
    "x6 = dacet,\n",
    "x7 = ddiac"
   ]
  },
  {
   "cell_type": "markdown",
   "metadata": {},
   "source": [
    "### Mobile robot"
   ]
  },
  {
   "cell_type": "code",
   "execution_count": 33,
   "metadata": {},
   "outputs": [],
   "source": [
    "def mobile_robot_ode(t, x, u, p = None):\n",
    "    \"\"\"\n",
    "    Mobile robot\n",
    "    \"\"\"\n",
    "    # Parameter configuratio\n",
    "\n",
    "    dx_dt = u[0] * ca.cos(x[2])\n",
    "    dy_dt = u[0] * ca.sin(x[2])\n",
    "    dtheta_dt = u[1]\n",
    "    rhs = [dx_dt,\n",
    "           dy_dt,\n",
    "           dtheta_dt\n",
    "           ]\n",
    "    return ca.vertcat(*rhs)"
   ]
  },
  {
   "cell_type": "code",
   "execution_count": 34,
   "metadata": {},
   "outputs": [],
   "source": [
    "def set_constraint(Nx, Nu, N_pred):\n",
    "    # set constraint\n",
    "    lbx = [0, 0, 0]\n",
    "    ubx = [0, 0, 0]\n",
    "    lbx += [-ca.inf] * (Nx + Nu) * N_pred\n",
    "    ubx += [ca.inf] * (Nx + Nu) * N_pred\n",
    "\n",
    "    x0 = [0, 0, 0]\n",
    "    x0 += [0] * (Nx + Nu) * N_pred\n",
    "\n",
    "    lbg = [0] * Nx * N_pred\n",
    "    ubg = [0] * Nx * N_pred\n",
    "\n",
    "    p = [0, 10, 10, 0, 0, 0] # t_var, xr_var, ur_var\n",
    "\n",
    "    return lbx, ubx, lbg, ubg, p, x0"
   ]
  },
  {
   "cell_type": "code",
   "execution_count": 35,
   "metadata": {},
   "outputs": [
    {
     "name": "stdout",
     "output_type": "stream",
     "text": [
      "(253, 1)\n"
     ]
    }
   ],
   "source": [
    "Nt = 1\n",
    "Nx = 3\n",
    "Nu = 2\n",
    "Np = 0\n",
    "Nz = 0\n",
    "\n",
    "delta_t = 0.01\n",
    "N_pred = 50\n",
    "N_sim = 300\n",
    "\n",
    "t_SX = ca.SX.sym(\"t_SX\", Nt)\n",
    "x_SX = ca.SX.sym(\"x_SX\", Nx)\n",
    "u_SX = ca.SX.sym(\"u_SX\", Nu)\n",
    "p_SX = ca.SX.sym(\"p_SX\", Np)\n",
    "z_SX = ca.SX.sym(\"z_SX\", Nz)\n",
    "\n",
    "para = []\n",
    "\n",
    "mobile_robot_ode(t_SX, x_SX, u_SX, para)\n",
    "lbx, ubx, lbg, ubg, p, x0 = set_constraint(Nx, Nu, N_pred)\n",
    "\n",
    "xr_SX = ca.SX.sym(\"xr_SX\", Nx)\n",
    "ur_SX = ca.SX.sym(\"ur_SX\", Nu)\n",
    "Q = np.diag([1, 1, 1])\n",
    "R = np.diag([1, 1])\n",
    "Q_f = np.diag([100, 100, 100])\n",
    "stage_cost = (x_SX - xr_SX).T @ Q @ (x_SX - xr_SX) + (u_SX - ur_SX).T @ R @ (u_SX - ur_SX)    #  Lagrange term\n",
    "terminal_cost = (x_SX - xr_SX).T @ Q_f @ (x_SX - xr_SX)    #  Mayer term\n",
    "stage_cost_func = ca.Function(\"stage_cost_func\",[x_SX, xr_SX, u_SX, ur_SX], [stage_cost])\n",
    "terminal_cost_func = ca.Function(\"terminal_cost_func\",[x_SX, xr_SX], [terminal_cost])\n",
    "\n",
    "model = Model(t_SX, x_SX, u_SX, z_SX, p_SX, delta_t, para=para, ode=mobile_robot_ode, alg=None, opt=None,\n",
    "              stage_cost_func=stage_cost_func, terminal_cost_func=terminal_cost_func)\n",
    "\n",
    "solver_opt = {}\n",
    "solver_opt['print_time'] = False\n",
    "solver_opt['ipopt'] = {\n",
    "    'max_iter': 500,\n",
    "    'print_level': 1,\n",
    "    'acceptable_tol': 1e-6,\n",
    "    'acceptable_obj_change_tol': 1e-6\n",
    "}\n",
    "\n",
    "mpc_solver = MPC(model, N_pred, solver_opt = solver_opt)\n",
    "mpc_simulator = Simulator(model, mpc_solver, N_sim, lbx, ubx, lbg, ubg, p, x0)\n"
   ]
  },
  {
   "cell_type": "code",
   "execution_count": 36,
   "metadata": {},
   "outputs": [
    {
     "data": {
      "image/png": "[encoded data removed]",
      "text/plain": [
       "<Figure size 432x288 with 1 Axes>"
      ]
     },
     "metadata": {
      "needs_background": "light"
     },
     "output_type": "display_data"
    }
   ],
   "source": [
    "mpc_plot = Plot(mpc_simulator)\n",
    "mpc_plot.plot_single()"
   ]
  },
  {
   "cell_type": "code",
   "execution_count": 37,
   "metadata": {},
   "outputs": [
    {
     "data": {
      "image/png": "[encoded data removed]",
      "text/plain": [
       "<Figure size 432x288 with 5 Axes>"
      ]
     },
     "metadata": {
      "needs_background": "light"
     },
     "output_type": "display_data"
    }
   ],
   "source": [
    "mpc_plot.plot_multi()"
   ]
  },
  {
   "cell_type": "code",
   "execution_count": null,
   "metadata": {},
   "outputs": [],
   "source": []
  }
 ],
 "metadata": {
  "kernelspec": {
   "display_name": "Python 3",
   "language": "python",
   "name": "python3"
  },
  "language_info": {
   "codemirror_mode": {
    "name": "ipython",
    "version": 3
   },
   "file_extension": ".py",
   "mimetype": "text/x-python",
   "name": "python",
   "nbconvert_exporter": "python",
   "pygments_lexer": "ipython3",
   "version": "3.7.7"
  }
 },
 "nbformat": 4,
 "nbformat_minor": 4
}
