{
 "cells": [
  {
   "cell_type": "code",
   "execution_count": 1,
   "metadata": {},
   "outputs": [],
   "source": [
    "import casadi as ca"
   ]
  },
  {
   "cell_type": "markdown",
   "metadata": {},
   "source": [
    "## Furuta Pendulum\n",
    "\n",
    "$$\n",
    "\\begin{array}{r}\n",
    "\\left(\\alpha+\\beta \\sin ^{2} \\theta\\right) \\ddot{\\phi}+\\gamma \\cos \\theta \\ddot{\\theta}+2 \\beta \\cos \\theta \\sin \\theta \\dot{\\phi} \\dot{\\theta}-\\gamma \\sin \\theta \\dot{\\theta}^{2}=\\tau_{\\phi} \\\\\n",
    "\\gamma \\cos \\theta \\ddot{\\phi}+\\beta \\ddot{\\theta}-\\beta \\cos \\theta \\sin \\theta \\dot{\\phi}^{2}-\\delta \\sin \\theta=\\tau_{\\theta}\n",
    "\\end{array}\n",
    "$$"
   ]
  },
  {
   "cell_type": "markdown",
   "metadata": {},
   "source": [
    "### State space model\n",
    "$$x_1 = \\phi, x_2 = \\dot{\\phi} , x_3 = \\theta, x_4 = \\dot{\\theta}, u_1 = \\tau_{\\phi}, u_2 = \\tau_{\\theta}$$\n",
    "\n",
    "$$\n",
    "\\begin{aligned}\n",
    "\\frac{dx_1}{dt} &= x_2\\\\\n",
    "\\frac{dx_2}{dt}  &=\\frac{1}{\\alpha \\beta-\\gamma^{2}+\\left(\\beta^{2}+\\gamma^{2}\\right) \\sin ^{2} x_3}\\left\\{\\beta \\gamma\\left(\\sin ^{2} x_3-1\\right) \\sin x_3 x_2^{2}-2 \\beta^{2} \\cos x_3 \\sin x_3 x_2 x_4+\\beta \\gamma \\sin x_3 x_4^{2}-\\gamma \\delta \\cos x_3 \\sin x_3+\\beta u_1-\\gamma \\cos x_3 u_2\\right\\} \\\\\n",
    "\\frac{dx_3}{d t} &=x_4 \\\\\n",
    "\\frac{dx_4}{d t} &=\\frac{1}{\\alpha \\beta-\\gamma^{2}+\\left(\\beta^{2}+\\gamma^{2}\\right) \\sin ^{2} x_3}\\left\\{\\beta\\left(\\alpha+\\beta \\sin ^{2} x_3\\right) \\cos x_3 \\sin x_3 x_2^{2}+2 \\beta \\gamma\\left(1-\\sin ^{2} x_3\\right) \\sin x_3 x_2 x_4-\\gamma^{2} \\cos x_3 \\sin x_3 x_4^{2}+\\delta\\left(\\alpha+\\beta \\sin ^{2} x_3\\right) \\sin x_3-\\gamma \\cos x_3 u_1+\\left(\\alpha+\\beta \\sin ^{2} x_3\\right) u_2\\right\\}\n",
    "\\end{aligned}\n",
    "$$\n"
   ]
  },
  {
   "cell_type": "code",
   "execution_count": 2,
   "metadata": {},
   "outputs": [],
   "source": [
    "def furuta_ode(t, x, u, p):\n",
    "    \"\"\"\n",
    "    Furuta Pendulum\n",
    "    \"\"\"\n",
    "    # Parameter configuration\n",
    "    alpha = p[0]\n",
    "    beta =  p[1]\n",
    "    delta = p[2]\n",
    "    gamma = p[3]\n",
    "\n",
    "    dx1_dt = x[1]\n",
    "    dx2_dt = 1 / (alpha * beta - gamma ** 2 + (beta ** 2 + gamma ** 2) * ca.sin(x[2]) ** 2) * (\n",
    "                beta * gamma * (ca.sin(x[2] ** 2 - 1)) * ca.sin(x[2]) * x[1] ** 2 - 2 * beta ** 2 * ca.cos(\n",
    "            x[2]) * ca.sin(x[2]) * x[1] * x[3] + beta * gamma * ca.sin(x[2]) * x[3] ** 2 - gamma * delta * ca.cos(\n",
    "            x[2]) * ca.sin(x[2]) + beta * u[0] - gamma * ca.cos(x[2]) * u[1])\n",
    "    dx3_dt = x[3]\n",
    "    dx4_dt = 1 / (alpha * beta - gamma ** 2 + (beta ** 2 + gamma ** 2) * ca.sin(x[2]) ** 2) * (\n",
    "                beta * (alpha + beta * ca.sin(x[2]) ** 2) * ca.cos(x[2]) * ca.sin(x[2]) * x[\n",
    "            1] ** 2 + 2 * beta * gamma * (1 - ca.sin(x[2]) ** 2) * ca.sin(x[2]) * x[1] * x[3] - gamma ** 2 * ca.cos(\n",
    "            x[2]) * ca.sin(x[2]) * x[3] ** 2 + delta * (alpha + beta * ca.sin(x[2]) ** 2) * ca.sin(\n",
    "            x[2]) - gamma * ca.cos(x[2]) * u[0] + (alpha + beta * ca.sin(x[2]) ** 2) * u[1])\n",
    "\n",
    "    rhs = [dx1_dt,\n",
    "           dx2_dt,\n",
    "           dx3_dt,\n",
    "           dx4_dt\n",
    "           ]\n",
    "    return ca.vertcat(*rhs)"
   ]
  },
  {
   "cell_type": "code",
   "execution_count": 3,
   "metadata": {},
   "outputs": [],
   "source": [
    "import numpy as np\n",
    "from mpc_model import Model\n",
    "Nt = 1\n",
    "Nx = 4\n",
    "Nu = 2\n",
    "Np = 0\n",
    "Nz = 0\n",
    "\n",
    "T = 0.01\n",
    "N_pred = 50\n",
    "N_sim = 100\n",
    "\n",
    "t_SX = ca.SX.sym(\"t_SX\", Nt)\n",
    "x_SX = ca.SX.sym(\"x_SX\", Nx)\n",
    "u_SX = ca.SX.sym(\"u_SX\", Nu)\n",
    "p_SX = ca.SX.sym(\"p_SX\", Np)\n",
    "z_SX = ca.SX.sym(\"z_SX\", Nz)\n",
    "\n",
    "alpha = 0.0033472\n",
    "beta =  0.0038852\n",
    "delta = 0.097625\n",
    "gamma = 0.0024879\n",
    "\n",
    "para = [alpha,beta,delta,gamma]\n",
    "\n",
    "furuta_ode(t_SX, x_SX, u_SX, para)\n",
    "\n",
    "xr_SX = ca.SX.sym(\"xr_SX\", Nx)\n",
    "ur_SX = ca.SX.sym(\"ur_SX\", Nu)\n",
    "Q = np.diag([10, 1, 100, 1])\n",
    "R = np.diag([1, 1])\n",
    "Q_f = np.diag([0, 0, 0, 0])\n",
    "stage_cost = (x_SX - xr_SX).T @ Q @ (x_SX - xr_SX) + (u_SX - ur_SX).T @ R @ (u_SX - ur_SX)    #  Lagrange term\n",
    "terminal_cost = (x_SX - xr_SX).T @ Q_f @ (x_SX - xr_SX)    #  Mayer term\n",
    "stage_cost_func = ca.Function(\"stage_cost_func\",[x_SX, xr_SX, u_SX, ur_SX], [stage_cost])\n",
    "terminal_cost_func = ca.Function(\"terminal_cost_func\",[x_SX, xr_SX], [terminal_cost])"
   ]
  },
  {
   "cell_type": "code",
   "execution_count": 4,
   "metadata": {},
   "outputs": [],
   "source": [
    "model = Model(t_SX, x_SX, u_SX, z_SX, p_SX, T, para = para, ode = furuta_ode, alg = None, opt=None, stage_cost_func = stage_cost_func, terminal_cost_func = terminal_cost_func)"
   ]
  },
  {
   "cell_type": "code",
   "execution_count": 5,
   "metadata": {},
   "outputs": [
    {
     "data": {
      "text/plain": [
       "SX(((((((10*(x_SX_0-xr_0))*(x_SX_0-xr_0))+sq((x_SX_1-xr_1)))+((100*(x_SX_2-xr_2))*(x_SX_2-xr_2)))+sq((x_SX_3-xr_3)))+(sq((u_SX_0-ur_0))+sq((u_SX_1-ur_1)))))"
      ]
     },
     "execution_count": 5,
     "metadata": {},
     "output_type": "execute_result"
    }
   ],
   "source": [
    "model.get_continuous_stage_cost()"
   ]
  }
 ],
 "metadata": {
  "kernelspec": {
   "display_name": "Python 3",
   "language": "python",
   "name": "python3"
  },
  "language_info": {
   "codemirror_mode": {
    "name": "ipython",
    "version": 3
   },
   "file_extension": ".py",
   "mimetype": "text/x-python",
   "name": "python",
   "nbconvert_exporter": "python",
   "pygments_lexer": "ipython3",
   "version": "3.7.7"
  }
 },
 "nbformat": 4,
 "nbformat_minor": 4
}
